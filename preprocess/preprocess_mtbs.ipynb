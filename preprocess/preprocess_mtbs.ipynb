{
 "cells": [
  {
   "cell_type": "markdown",
   "id": "f1717417-7a93-427c-bfdb-dfc83fddb1ac",
   "metadata": {},
   "source": [
    "# Wildfire Data Pre-Processing\n",
    "\n",
    "#### Data Source:\n",
    "\n",
    "Monitoring Trends in Burn Severity (MTBS)\n",
    "\n",
    "Burned Areas Boundaries Dataset (1984-2022)\n",
    "\n",
    "https://www.mtbs.gov/direct-download"
   ]
  },
  {
   "cell_type": "code",
   "execution_count": 18,
   "id": "6313ab3d-a281-4fe3-b3ef-661310cf353f",
   "metadata": {},
   "outputs": [],
   "source": [
    "import pandas as pd\n",
    "import numpy as np"
   ]
  },
  {
   "cell_type": "markdown",
   "id": "da0ef2df-9d74-4560-839e-9cfd5497a3d2",
   "metadata": {},
   "source": [
    "## Load Data From MTBS"
   ]
  },
  {
   "cell_type": "code",
   "execution_count": 19,
   "id": "d250c4d7-00b4-440f-99a6-87513878ed6f",
   "metadata": {
    "tags": []
   },
   "outputs": [],
   "source": [
    "import geopandas as gdp"
   ]
  },
  {
   "cell_type": "code",
   "execution_count": 20,
   "id": "f29ac704-7a34-4302-8eee-9ff2ef0f055b",
   "metadata": {
    "tags": []
   },
   "outputs": [],
   "source": [
    "df_raw = gdp.read_file('data/mtbs/mtbs_perims_DD.shp')"
   ]
  },
  {
   "cell_type": "code",
   "execution_count": 21,
   "id": "99961d4b-4f68-4e06-bc6d-603c2dbcc9da",
   "metadata": {
    "tags": []
   },
   "outputs": [],
   "source": [
    "df = df_raw.copy()"
   ]
  },
  {
   "cell_type": "markdown",
   "id": "282eb794-2882-48c2-a2b5-c421718ef8f6",
   "metadata": {},
   "source": [
    "## Drop Unneeded Columns"
   ]
  },
  {
   "cell_type": "code",
   "execution_count": 22,
   "id": "55a47e87-354c-4042-a384-3db02247027d",
   "metadata": {
    "tags": []
   },
   "outputs": [],
   "source": [
    "df = df.drop(columns=[\n",
    "    'Map_ID',\n",
    "    'Map_Prog',\n",
    "    'Asmnt_Type',\n",
    "    'Pre_ID',\n",
    "    'Post_ID',\n",
    "    'Perim_ID',\n",
    "    'dNBR_offst',\n",
    "    'dNBR_stdDv',\n",
    "    'NoData_T',\n",
    "    'IncGreen_T',\n",
    "    'Low_T',\n",
    "    'Mod_T',\n",
    "    'High_T',\n",
    "    'Comment'\n",
    "])"
   ]
  },
  {
   "cell_type": "markdown",
   "id": "ef987647-82a2-4289-a5ee-27067a4609a9",
   "metadata": {},
   "source": [
    "## Rename Columns"
   ]
  },
  {
   "cell_type": "code",
   "execution_count": 23,
   "id": "cd3c1663-6b20-4c0e-8a3d-cc220c7b1c88",
   "metadata": {
    "tags": []
   },
   "outputs": [],
   "source": [
    "df = df.rename(columns={\n",
    "            'Event_ID': 'mtbs_id',\n",
    "            'irwinID': 'irwin_id',\n",
    "            'Incid_Name': 'incident_name',\n",
    "            'Incid_Type': 'incident_type',\n",
    "            'BurnBndAc': 'burned_acreage',\n",
    "            'Ig_Date': 'ignition_date',\n",
    "            'BurnBndLat': 'latitude',\n",
    "            'BurnBndLon': 'longitude'\n",
    "})"
   ]
  },
  {
   "cell_type": "markdown",
   "id": "9c2030a1-991f-4d39-a74c-bd83961b83b4",
   "metadata": {},
   "source": [
    "## Remove Prescribed Burns"
   ]
  },
  {
   "cell_type": "code",
   "execution_count": 24,
   "id": "834df982-d934-4b3f-b8b2-c43940bf364b",
   "metadata": {
    "tags": []
   },
   "outputs": [],
   "source": [
    "df = df[df.incident_type != 'Prescribed Fire']"
   ]
  },
  {
   "cell_type": "code",
   "execution_count": 25,
   "id": "9d1c5092-86f4-40f8-a6a8-19126efade8f",
   "metadata": {
    "tags": []
   },
   "outputs": [],
   "source": [
    "df = df.drop(columns=['incident_type'])"
   ]
  },
  {
   "cell_type": "markdown",
   "id": "56e7685d-c0a3-4d68-91b6-34ad2f3d1c5a",
   "metadata": {},
   "source": [
    "## Add a Year Column"
   ]
  },
  {
   "cell_type": "code",
   "execution_count": 30,
   "id": "c2069ffc-7687-4218-91ad-62af729365e6",
   "metadata": {
    "tags": []
   },
   "outputs": [],
   "source": [
    "df['ignition_year'] = df.ignition_date.apply(lambda date: date[:4])"
   ]
  },
  {
   "cell_type": "markdown",
   "id": "ce8935fb-3256-44a0-aaa0-28c6b3af3627",
   "metadata": {},
   "source": [
    "## (Optional) Add a state column"
   ]
  },
  {
   "cell_type": "code",
   "execution_count": 27,
   "id": "a910ffff-538f-4e6e-a55a-1f715951b0ae",
   "metadata": {
    "tags": []
   },
   "outputs": [],
   "source": [
    "\"\"\"This works to compute the state for each fire,\n",
    "but it will take 3+ hours to work for all 30k fires\n",
    "import reverse_geocoder\n",
    "import tqdm\n",
    "tqdm.pandas()\n",
    "\n",
    "df = df.astype({\n",
    "    'latitude': np.float64,\n",
    "    'longitude': np.float64\n",
    "})\n",
    "\n",
    "def get_state(row):\n",
    "    response = reverse_geocoder.search((row.latitude, row.longitude))\n",
    "    return response[0]['admin1']\n",
    "df['state'] = df.progress_apply(get_state, axis=1)\n",
    "\"\"\";"
   ]
  },
  {
   "cell_type": "markdown",
   "id": "1d7f3fa4-7226-486f-bfd7-3538075c03d4",
   "metadata": {},
   "source": [
    "## Data Cleanliness"
   ]
  },
  {
   "cell_type": "markdown",
   "id": "6f91ddf2-2af2-489c-8b3f-e376c1d4fdd6",
   "metadata": {},
   "source": [
    "The data, as provided by MTBS, only contains missing values for IRWIN IDs. This is to be expected, as IRWIN IDs were introduced in 2015 and this dataset goes back to 1984. Otherwise, the dataset has already been cleaned by MTBS."
   ]
  },
  {
   "cell_type": "code",
   "execution_count": 28,
   "id": "0127286f-d5c3-4039-8ad3-b95be96aa614",
   "metadata": {
    "tags": []
   },
   "outputs": [
    {
     "data": {
      "text/plain": [
       "mtbs_id               0\n",
       "irwin_id          18946\n",
       "incident_name         0\n",
       "burned_acreage        0\n",
       "latitude              0\n",
       "longitude             0\n",
       "ignition_date         0\n",
       "geometry              0\n",
       "year                  0\n",
       "dtype: int64"
      ]
     },
     "execution_count": 28,
     "metadata": {},
     "output_type": "execute_result"
    }
   ],
   "source": [
    "df.isna().sum()"
   ]
  },
  {
   "cell_type": "markdown",
   "id": "b2b8a8d3-21fe-4574-bdc2-ac783bb24e8f",
   "metadata": {},
   "source": [
    "## Save Data"
   ]
  },
  {
   "cell_type": "code",
   "execution_count": 32,
   "id": "0b1beef0-f50f-4215-8afb-b0ab69781ce9",
   "metadata": {
    "tags": []
   },
   "outputs": [],
   "source": [
    "df_sans_perimeters = df.drop(columns=['geometry'])"
   ]
  },
  {
   "cell_type": "code",
   "execution_count": 34,
   "id": "3514bf64-96d7-4d71-85a2-946d3cd0ef76",
   "metadata": {
    "tags": []
   },
   "outputs": [],
   "source": [
    "df_sans_perimeters.to_json('data/mtbs.json')"
   ]
  },
  {
   "cell_type": "code",
   "execution_count": 35,
   "id": "2a37d5c0-33df-452e-92bd-c06cbfd62fc8",
   "metadata": {
    "tags": []
   },
   "outputs": [],
   "source": [
    "df.to_file('data/mtbs_incl_perimeters.geojson', driver='GeoJSON')  "
   ]
  }
 ],
 "metadata": {
  "kernelspec": {
   "display_name": "Python 3 (ipykernel)",
   "language": "python",
   "name": "python3"
  },
  "language_info": {
   "codemirror_mode": {
    "name": "ipython",
    "version": 3
   },
   "file_extension": ".py",
   "mimetype": "text/x-python",
   "name": "python",
   "nbconvert_exporter": "python",
   "pygments_lexer": "ipython3",
   "version": "3.10.13"
  }
 },
 "nbformat": 4,
 "nbformat_minor": 5
}
