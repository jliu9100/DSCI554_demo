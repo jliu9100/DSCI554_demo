{
 "cells": [
  {
   "cell_type": "markdown",
   "id": "4c9b33c8-4959-4b05-8125-c73bbe5fea7e",
   "metadata": {},
   "source": [
    "# Wildfire Data Pre-Processing\n",
    "\n",
    "#### Data Sources:\n",
    "\n",
    "(1)\n",
    "\n",
    "Monitoring Trends in Burn Severity (MTBS)\n",
    "\n",
    "Burned Areas Boundaries Dataset (1984-2022)\n",
    "\n",
    "https://www.mtbs.gov/direct-download\n",
    "\n",
    "(2)\n",
    "\n",
    "Kaggle\n",
    "\n",
    "1.88 Million US Wildfires\n",
    "\n",
    "https://www.kaggle.com/datasets/rtatman/188-million-us-wildfires/data"
   ]
  },
  {
   "cell_type": "code",
   "execution_count": 1,
   "id": "6313ab3d-a281-4fe3-b3ef-661310cf353f",
   "metadata": {},
   "outputs": [],
   "source": [
    "import sqlite3\n",
    "import pandas as pd\n",
    "import numpy as np"
   ]
  },
  {
   "cell_type": "markdown",
   "id": "319d2ce7-db9a-4b4f-9d1a-cf8a3e77c492",
   "metadata": {},
   "source": [
    "## Load Data From Kaggle"
   ]
  },
  {
   "cell_type": "code",
   "execution_count": 2,
   "id": "6d400fe0-96eb-452e-bafc-e6ceb09413f1",
   "metadata": {},
   "outputs": [],
   "source": [
    "cnx = sqlite3.connect('FPA_FOD_20170508.sqlite')"
   ]
  },
  {
   "cell_type": "code",
   "execution_count": 3,
   "id": "6b88aa31-2d1e-4ddf-8363-12ad82026c43",
   "metadata": {},
   "outputs": [],
   "source": [
    "query = \"\"\"\n",
    "SELECT \n",
    "    FIRE_YEAR as year,\n",
    "    STAT_CAUSE_DESCR as cause_description,\n",
    "    LATITUDE as latitude,\n",
    "    LONGITUDE as longitude,\n",
    "    STATE as state,\n",
    "    MTBS_ID as mtbs_id\n",
    "FROM \n",
    "    'Fires'\n",
    "WHERE\n",
    "   MTBS_ID IS NOT NULL\n",
    "\"\"\"\n",
    "\n",
    "kaggle_df = pd.read_sql_query(query, cnx)"
   ]
  },
  {
   "cell_type": "markdown",
   "id": "da0ef2df-9d74-4560-839e-9cfd5497a3d2",
   "metadata": {},
   "source": [
    "## Load Data From MTBS"
   ]
  },
  {
   "cell_type": "code",
   "execution_count": 4,
   "id": "d250c4d7-00b4-440f-99a6-87513878ed6f",
   "metadata": {
    "tags": []
   },
   "outputs": [],
   "source": [
    "import geopandas as gdp"
   ]
  },
  {
   "cell_type": "code",
   "execution_count": 5,
   "id": "f29ac704-7a34-4302-8eee-9ff2ef0f055b",
   "metadata": {
    "tags": []
   },
   "outputs": [],
   "source": [
    "mtbs_df_raw = gdp.read_file('data/mtbs/mtbs_perims_DD.shp')"
   ]
  },
  {
   "cell_type": "code",
   "execution_count": 6,
   "id": "99961d4b-4f68-4e06-bc6d-603c2dbcc9da",
   "metadata": {
    "tags": []
   },
   "outputs": [],
   "source": [
    "mtbs_df = mtbs_df_raw.copy()"
   ]
  },
  {
   "cell_type": "markdown",
   "id": "282eb794-2882-48c2-a2b5-c421718ef8f6",
   "metadata": {},
   "source": [
    "## Drop Unneeded Columns"
   ]
  },
  {
   "cell_type": "code",
   "execution_count": 7,
   "id": "55a47e87-354c-4042-a384-3db02247027d",
   "metadata": {
    "tags": []
   },
   "outputs": [],
   "source": [
    "mtbs_df = mtbs_df.drop(columns=[\n",
    "    'Map_ID',\n",
    "    'Map_Prog',\n",
    "    'Asmnt_Type',\n",
    "    'Pre_ID',\n",
    "    'Post_ID',\n",
    "    'Perim_ID',\n",
    "    'dNBR_offst',\n",
    "    'dNBR_stdDv',\n",
    "    'NoData_T',\n",
    "    'IncGreen_T',\n",
    "    'Low_T',\n",
    "    'Mod_T',\n",
    "    'High_T',\n",
    "    'Comment',\n",
    "    'BurnBndLat',\n",
    "    'BurnBndLon'\n",
    "])"
   ]
  },
  {
   "cell_type": "markdown",
   "id": "ef987647-82a2-4289-a5ee-27067a4609a9",
   "metadata": {},
   "source": [
    "## Rename Columns"
   ]
  },
  {
   "cell_type": "code",
   "execution_count": 9,
   "id": "cd3c1663-6b20-4c0e-8a3d-cc220c7b1c88",
   "metadata": {
    "tags": []
   },
   "outputs": [],
   "source": [
    "mtbs_df = mtbs_df.rename(columns={\n",
    "            'Event_ID': 'mtbs_id',\n",
    "            'irwinID': 'irwin_id',\n",
    "            'Incid_Name': 'incident_name',\n",
    "            'Incid_Type': 'incident_type',\n",
    "            'BurnBndAc': 'burned_acreage',\n",
    "            'Ig_Date': 'ignition_date'\n",
    "})"
   ]
  },
  {
   "cell_type": "markdown",
   "id": "2ae9c981-bcc9-410b-82fb-4c023379968f",
   "metadata": {},
   "source": [
    "## Merge Kaggle and MTBS Data"
   ]
  },
  {
   "cell_type": "code",
   "execution_count": 12,
   "id": "cab8e2e2-d3de-4d49-abdd-41275e46381e",
   "metadata": {
    "tags": []
   },
   "outputs": [],
   "source": [
    "df = mtbs_df.merge(kaggle_df, on='mtbs_id', how='inner')"
   ]
  },
  {
   "cell_type": "code",
   "execution_count": 13,
   "id": "3ee39cf3-50f0-4faa-8d05-9969066668ec",
   "metadata": {
    "tags": []
   },
   "outputs": [],
   "source": [
    "df.to_file('data/mtbs_kaggle_merged.geojson', driver='GeoJSON')  "
   ]
  }
 ],
 "metadata": {
  "kernelspec": {
   "display_name": "Python 3 (ipykernel)",
   "language": "python",
   "name": "python3"
  },
  "language_info": {
   "codemirror_mode": {
    "name": "ipython",
    "version": 3
   },
   "file_extension": ".py",
   "mimetype": "text/x-python",
   "name": "python",
   "nbconvert_exporter": "python",
   "pygments_lexer": "ipython3",
   "version": "3.10.13"
  }
 },
 "nbformat": 4,
 "nbformat_minor": 5
}
