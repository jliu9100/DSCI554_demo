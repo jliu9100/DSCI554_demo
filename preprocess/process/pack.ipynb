{
 "cells": [
  {
   "cell_type": "code",
   "execution_count": 2,
   "id": "c4cf464a-ec0c-4707-adfc-66158c6ac7e4",
   "metadata": {
    "tags": []
   },
   "outputs": [],
   "source": [
    "import pandas as pd\n",
    "from datetime import datetime\n",
    "from os.path import join\n",
    "import json"
   ]
  },
  {
   "cell_type": "code",
   "execution_count": 3,
   "id": "8fb68910-982d-4a57-86f3-480b1ffb2fda",
   "metadata": {
    "tags": []
   },
   "outputs": [],
   "source": [
    "DATA_DIR = '../public'"
   ]
  },
  {
   "cell_type": "code",
   "execution_count": 4,
   "id": "b538c5ce-6456-41c0-a8e5-9b7a7329d3ef",
   "metadata": {
    "tags": []
   },
   "outputs": [],
   "source": [
    "df_raw = pd.read_json(join(DATA_DIR, 'mtbs.json'))"
   ]
  },
  {
   "cell_type": "markdown",
   "id": "1b02daae-3358-41c0-b26e-f8678e398236",
   "metadata": {},
   "source": [
    "## Save Fire Year and Burned Acreage"
   ]
  },
  {
   "cell_type": "code",
   "execution_count": 74,
   "id": "cf71dc15-4814-46ed-9ebd-b584c55e5692",
   "metadata": {
    "tags": []
   },
   "outputs": [],
   "source": [
    "df = df_raw.copy()"
   ]
  },
  {
   "cell_type": "code",
   "execution_count": 75,
   "id": "e9672d01-97fc-44a9-bc75-ed6565a4f343",
   "metadata": {},
   "outputs": [],
   "source": [
    "df = df.sort_values('burned_acreage', ascending=False)"
   ]
  },
  {
   "cell_type": "code",
   "execution_count": 76,
   "id": "3a8e18e4-957c-431c-8ac3-788417fea630",
   "metadata": {
    "tags": []
   },
   "outputs": [],
   "source": [
    "df = df[['ignition_year', 'burned_acreage', 'incident_name']]"
   ]
  },
  {
   "cell_type": "code",
   "execution_count": 77,
   "id": "07feb33d-1589-463b-be0d-66f97f63faa8",
   "metadata": {
    "tags": []
   },
   "outputs": [],
   "source": [
    "fires_by_decade = {\n",
    "    1990: df[(df.ignition_year >= 1990) & (df.ignition_year < 2000)],\n",
    "    2000: df[(df.ignition_year >= 2000) & (df.ignition_year < 2010)],\n",
    "    2010: df[(df.ignition_year >= 2000) & (df.ignition_year < 2020)],\n",
    "}"
   ]
  },
  {
   "cell_type": "code",
   "execution_count": 78,
   "id": "bac6be3a-e7a4-43d9-b82a-e9b108e7e0e7",
   "metadata": {},
   "outputs": [],
   "source": [
    "fires = {\n",
    "    'name': 'fires',\n",
    "    'children': []\n",
    "}"
   ]
  },
  {
   "cell_type": "code",
   "execution_count": 79,
   "id": "54c8bd40-8c01-4bea-936b-893cd9270f1d",
   "metadata": {},
   "outputs": [],
   "source": [
    "for decade, v in fires_by_decade.items():\n",
    "    d = {\n",
    "        'name': decade,\n",
    "        'children': []\n",
    "    }\n",
    "    v = v.nlargest(10, 'burned_acreage')\n",
    "    d['children'].extend(\n",
    "        v.apply(lambda row: {\n",
    "            'name': row.incident_name.title(),\n",
    "            'acresBurned': row.burned_acreage\n",
    "        }, axis='columns')\n",
    "    )\n",
    "    fires['children'].append(d)"
   ]
  },
  {
   "cell_type": "code",
   "execution_count": 80,
   "id": "c1014ac9-98b3-4ca2-b2c6-79f9fdd005db",
   "metadata": {
    "tags": []
   },
   "outputs": [],
   "source": [
    "with open(join(DATA_DIR, 'pack_burn_by_decade.json'), 'w') as fp:\n",
    "    json.dump(fires, fp)"
   ]
  },
  {
   "cell_type": "markdown",
   "id": "44525343-37ae-43cc-9e2b-6a12b5e3bb67",
   "metadata": {},
   "source": [
    "## Save Fire Year and Burned Acreage, By Month\n",
    "\n",
    "### Pack Decades and acres burned by month"
   ]
  },
  {
   "cell_type": "code",
   "execution_count": 15,
   "id": "29db89e6-579e-4da4-9d43-0624f861bad1",
   "metadata": {
    "tags": []
   },
   "outputs": [],
   "source": [
    "df = df_raw.copy()"
   ]
  },
  {
   "cell_type": "code",
   "execution_count": 17,
   "id": "478a40c0-979b-4396-90d1-d4b4d38df81e",
   "metadata": {
    "tags": []
   },
   "outputs": [],
   "source": [
    "df['month'] = df.ignition_date.apply(lambda d: datetime.strptime(d, '%Y-%m-%d').strftime(\"%B\"))"
   ]
  },
  {
   "cell_type": "code",
   "execution_count": 20,
   "metadata": {},
   "outputs": [],
   "source": [
    "fires_by_decade = {\n",
    "    1990: df[(df.ignition_year >= 1990) & (df.ignition_year < 2000)],\n",
    "    2000: df[(df.ignition_year >= 2000) & (df.ignition_year < 2010)],\n",
    "    2010: df[(df.ignition_year >= 2000) & (df.ignition_year < 2020)],\n",
    "}"
   ]
  },
  {
   "cell_type": "code",
   "execution_count": null,
   "metadata": {},
   "outputs": [],
   "source": [
    "fires = {\n",
    "    'name': 'fires',\n",
    "    'children': []\n",
    "}"
   ]
  },
  {
   "cell_type": "code",
   "execution_count": 33,
   "metadata": {},
   "outputs": [],
   "source": [
    "x = fires_by_decade[2010].groupby('month')['burned_acreage'].sum()"
   ]
  },
  {
   "cell_type": "code",
   "execution_count": 41,
   "metadata": {},
   "outputs": [
    {
     "data": {
      "text/plain": [
       "<bound method DataFrame.reset_index of            burned_acreage\n",
       "month                    \n",
       "April            13484722\n",
       "August           22946090\n",
       "December           746670\n",
       "February          2452721\n",
       "January           1212869\n",
       "July             36110976\n",
       "June             31860548\n",
       "March             7652398\n",
       "May               9363492\n",
       "November          1309632\n",
       "October           2639657\n",
       "September         4805098>"
      ]
     },
     "execution_count": 41,
     "metadata": {},
     "output_type": "execute_result"
    }
   ],
   "source": [
    "x.to_frame().reset_index"
   ]
  },
  {
   "cell_type": "code",
   "execution_count": null,
   "metadata": {},
   "outputs": [],
   "source": [
    "for decade, v in fires_by_decade.items():\n",
    "    d = {\n",
    "        'name': decade,\n",
    "        'children': []\n",
    "    }\n",
    "    v = v.groupby('month')['burned_acreage'].sum()\n",
    "    v = v.to_frame().reset_index()\n",
    "    d['children'].extend(\n",
    "        v.apply(lambda row: {\n",
    "            'name': row.month,\n",
    "            'acresBurned': row.burned_acreage\n",
    "        }, axis='columns')\n",
    "    )\n",
    "    fires['children'].append(d)"
   ]
  },
  {
   "cell_type": "code",
   "execution_count": null,
   "metadata": {},
   "outputs": [],
   "source": [
    "with open(join(DATA_DIR, 'pack_burn_by_decade.json'), 'w') as fp:\n",
    "    json.dump(fires, fp)"
   ]
  },
  {
   "cell_type": "code",
   "execution_count": 371,
   "id": "35529ee0-2ffb-480d-8e4c-33ba2a223248",
   "metadata": {
    "tags": []
   },
   "outputs": [],
   "source": [
    "df_by_month = [\n",
    "    df[df.month == month].drop(columns=['month'])\n",
    "    for month in range(1, 13)\n",
    "]"
   ]
  },
  {
   "cell_type": "code",
   "execution_count": 372,
   "id": "b5d4182d-3866-4f50-9929-d307067a207a",
   "metadata": {
    "tags": []
   },
   "outputs": [],
   "source": [
    "for month, df in enumerate(df_by_month):\n",
    "    df['intra_year_index'] = df.groupby('ignition_year').cumcount()\n",
    "    df_by_month[month] = df"
   ]
  },
  {
   "cell_type": "code",
   "execution_count": 373,
   "id": "f496fb1e-5385-41e6-a149-b974ba5115ca",
   "metadata": {
    "tags": []
   },
   "outputs": [],
   "source": [
    "for idx, df in enumerate(df_by_month):\n",
    "    df = df.rename(columns={\n",
    "        'burned_acreage': 'acresBurned',\n",
    "        'intra_year_index': 'intraYearIndex',\n",
    "        'ignition_year': 'year'\n",
    "    })\n",
    "    df_by_month[idx] = df"
   ]
  },
  {
   "cell_type": "code",
   "execution_count": 374,
   "id": "00e41dd9-b2dc-4ff2-a665-e5a668320d6b",
   "metadata": {
    "tags": []
   },
   "outputs": [],
   "source": [
    "with open(join(DATA_DIR, 'timelapse_by_month.json'), 'w') as outfile:\n",
    "    outfile.write(json.dumps([df.to_dict(orient='records') for df in df_by_month]))"
   ]
  }
 ],
 "metadata": {
  "kernelspec": {
   "display_name": "Python 3 (ipykernel)",
   "language": "python",
   "name": "python3"
  },
  "language_info": {
   "codemirror_mode": {
    "name": "ipython",
    "version": 3
   },
   "file_extension": ".py",
   "mimetype": "text/x-python",
   "name": "python",
   "nbconvert_exporter": "python",
   "pygments_lexer": "ipython3",
   "version": "3.10.13"
  }
 },
 "nbformat": 4,
 "nbformat_minor": 5
}
